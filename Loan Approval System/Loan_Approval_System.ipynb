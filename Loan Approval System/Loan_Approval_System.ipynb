{
  "nbformat": 4,
  "nbformat_minor": 0,
  "metadata": {
    "colab": {
      "provenance": []
    },
    "kernelspec": {
      "name": "python3",
      "display_name": "Python 3"
    },
    "language_info": {
      "name": "python"
    }
  },
  "cells": [
    {
      "cell_type": "code",
      "execution_count": 1,
      "metadata": {
        "id": "mmQEaSuiPj5Y"
      },
      "outputs": [],
      "source": [
        "# Loan Approval Prediction Model\n",
        "import numpy as np\n",
        "import pandas as pd\n",
        "from sklearn.ensemble import RandomForestClassifier\n",
        "from sklearn.model_selection import train_test_split\n",
        "from sklearn.metrics import accuracy_score\n",
        "from sklearn.impute import SimpleImputer\n",
        "from sklearn.preprocessing import LabelEncoder"
      ]
    },
    {
      "cell_type": "code",
      "source": [
        "# Set random seed for reproducibility\n",
        "np.random.seed(42)"
      ],
      "metadata": {
        "id": "oQdeppfZPwDz"
      },
      "execution_count": 2,
      "outputs": []
    },
    {
      "cell_type": "code",
      "source": [
        "# Load datasets\n",
        "train = pd.read_csv('train.csv')\n",
        "test = pd.read_csv('test.csv')\n",
        "sample_submission = pd.read_csv('sample_submission.csv')\n",
        "\n",
        "# Display the first few rows of the training data\n",
        "print(train.head())\n"
      ],
      "metadata": {
        "colab": {
          "base_uri": "https://localhost:8080/"
        },
        "id": "TA6bjDFWPynx",
        "outputId": "b29b0bd9-a6d8-4031-bc5e-4b2059f57158"
      },
      "execution_count": 4,
      "outputs": [
        {
          "output_type": "stream",
          "name": "stdout",
          "text": [
            "   id  person_age  person_income person_home_ownership  person_emp_length  \\\n",
            "0   0          37          35000                  RENT                0.0   \n",
            "1   1          22          56000                   OWN                6.0   \n",
            "2   2          29          28800                   OWN                8.0   \n",
            "3   3          30          70000                  RENT               14.0   \n",
            "4   4          22          60000                  RENT                2.0   \n",
            "\n",
            "  loan_intent loan_grade  loan_amnt  loan_int_rate  loan_percent_income  \\\n",
            "0   EDUCATION          B       6000          11.49                 0.17   \n",
            "1     MEDICAL          C       4000          13.35                 0.07   \n",
            "2    PERSONAL          A       6000           8.90                 0.21   \n",
            "3     VENTURE          B      12000          11.11                 0.17   \n",
            "4     MEDICAL          A       6000           6.92                 0.10   \n",
            "\n",
            "  cb_person_default_on_file  cb_person_cred_hist_length  loan_status  \n",
            "0                         N                          14            0  \n",
            "1                         N                           2            0  \n",
            "2                         N                          10            0  \n",
            "3                         N                           5            0  \n",
            "4                         N                           3            0  \n"
          ]
        }
      ]
    },
    {
      "cell_type": "code",
      "source": [
        "# Check for missing values in both datasets\n",
        "print(\"Missing values in training data:\\n\", train.isnull().sum())\n",
        "print(\"\\nMissing values in test data:\\n\", test.isnull().sum())\n"
      ],
      "metadata": {
        "colab": {
          "base_uri": "https://localhost:8080/"
        },
        "id": "wxMOLypuPzpc",
        "outputId": "eda3cd94-243a-4cb6-c6da-3fdf52a9c671"
      },
      "execution_count": 5,
      "outputs": [
        {
          "output_type": "stream",
          "name": "stdout",
          "text": [
            "Missing values in training data:\n",
            " id                            0\n",
            "person_age                    0\n",
            "person_income                 0\n",
            "person_home_ownership         0\n",
            "person_emp_length             0\n",
            "loan_intent                   0\n",
            "loan_grade                    0\n",
            "loan_amnt                     0\n",
            "loan_int_rate                 0\n",
            "loan_percent_income           0\n",
            "cb_person_default_on_file     0\n",
            "cb_person_cred_hist_length    0\n",
            "loan_status                   0\n",
            "dtype: int64\n",
            "\n",
            "Missing values in test data:\n",
            " id                            0\n",
            "person_age                    0\n",
            "person_income                 0\n",
            "person_home_ownership         0\n",
            "person_emp_length             0\n",
            "loan_intent                   0\n",
            "loan_grade                    0\n",
            "loan_amnt                     0\n",
            "loan_int_rate                 0\n",
            "loan_percent_income           0\n",
            "cb_person_default_on_file     0\n",
            "cb_person_cred_hist_length    0\n",
            "dtype: int64\n"
          ]
        }
      ]
    },
    {
      "cell_type": "code",
      "source": [
        "# Impute missing values (using SimpleImputer)\n",
        "imputer = SimpleImputer(strategy='mean')\n",
        "# Assuming 'loan_amount' is a feature with missing values\n",
        "if 'loan_amount' in train.columns:\n",
        "    train['loan_amount'] = imputer.fit_transform(train[['loan_amount']])\n",
        "if 'loan_amount' in test.columns:\n",
        "    test['loan_amount'] = imputer.transform(test[['loan_amount']])\n",
        "\n",
        "# Label Encoding for categorical features if any\n",
        "label_encoder = LabelEncoder()\n",
        "for column in ['category']:  # Add more columns if needed\n",
        "    if column in train.columns:\n",
        "        train[column] = label_encoder.fit_transform(train[column])\n",
        "    if column in test.columns:\n",
        "        test[column] = label_encoder.transform(test[column])\n"
      ],
      "metadata": {
        "id": "hwPY0pKhQe9R"
      },
      "execution_count": 6,
      "outputs": []
    },
    {
      "cell_type": "code",
      "source": [
        "# Feature selection: Separate target and features\n",
        "X = train.drop(['loan_status', 'id'], axis=1)\n",
        "y = train['loan_status']\n"
      ],
      "metadata": {
        "id": "LIJ7W9vRQiaL"
      },
      "execution_count": 7,
      "outputs": []
    },
    {
      "cell_type": "code",
      "source": [
        "# Split data into training and validation sets\n",
        "X_train, X_val, y_train, y_val = train_test_split(X, y, test_size=0.2, random_state=42)\n"
      ],
      "metadata": {
        "id": "wmS8tHlYQjWJ"
      },
      "execution_count": 8,
      "outputs": []
    },
    {
      "cell_type": "code",
      "source": [
        "# Check for missing values in both datasets\n",
        "print(train.isnull().sum())\n",
        "print(test.isnull().sum())\n",
        "\n",
        "# Impute missing values (using SimpleImputer) for numerical columns\n",
        "imputer = SimpleImputer(strategy='mean')  # For numerical values\n",
        "numerical_columns = ['loan_amount']  # Add other numerical columns if needed\n",
        "for col in numerical_columns:\n",
        "    if col in train.columns:\n",
        "        train[col] = imputer.fit_transform(train[[col]])\n",
        "        test[col] = imputer.transform(test[[col]])\n",
        "\n",
        "# Handle categorical features with Label Encoding\n",
        "# Find all categorical columns\n",
        "categorical_columns = train.select_dtypes(include=['object']).columns\n",
        "\n",
        "label_encoder = LabelEncoder()\n",
        "for col in categorical_columns:\n",
        "    train[col] = label_encoder.fit_transform(train[col].astype(str))\n",
        "    test[col] = label_encoder.transform(test[col].astype(str))\n",
        "\n",
        "# Feature selection: Separate target and features\n",
        "X = train.drop(['loan_status', 'id'], axis=1)\n",
        "y = train['loan_status']\n",
        "\n",
        "# Splitting data into training and validation sets\n",
        "X_train, X_val, y_train, y_val = train_test_split(X, y, test_size=0.2, random_state=42)\n",
        "\n",
        "# Initialize RandomForestClassifier\n",
        "model = RandomForestClassifier(random_state=42)\n",
        "\n",
        "# Train the model\n",
        "model.fit(X_train, y_train)\n",
        "\n",
        "# Make predictions on the validation set\n",
        "y_pred = model.predict(X_val)\n",
        "\n",
        "# Evaluate model performance\n",
        "accuracy = accuracy_score(y_val, y_pred)\n",
        "print(f\"Validation Accuracy: {accuracy * 100:.2f}%\")"
      ],
      "metadata": {
        "colab": {
          "base_uri": "https://localhost:8080/"
        },
        "id": "XIRVtQAlQk7W",
        "outputId": "da702b4b-e8ef-4471-c94e-1807dae45421"
      },
      "execution_count": 9,
      "outputs": [
        {
          "output_type": "stream",
          "name": "stdout",
          "text": [
            "id                            0\n",
            "person_age                    0\n",
            "person_income                 0\n",
            "person_home_ownership         0\n",
            "person_emp_length             0\n",
            "loan_intent                   0\n",
            "loan_grade                    0\n",
            "loan_amnt                     0\n",
            "loan_int_rate                 0\n",
            "loan_percent_income           0\n",
            "cb_person_default_on_file     0\n",
            "cb_person_cred_hist_length    0\n",
            "loan_status                   0\n",
            "dtype: int64\n",
            "id                            0\n",
            "person_age                    0\n",
            "person_income                 0\n",
            "person_home_ownership         0\n",
            "person_emp_length             0\n",
            "loan_intent                   0\n",
            "loan_grade                    0\n",
            "loan_amnt                     0\n",
            "loan_int_rate                 0\n",
            "loan_percent_income           0\n",
            "cb_person_default_on_file     0\n",
            "cb_person_cred_hist_length    0\n",
            "dtype: int64\n",
            "Validation Accuracy: 94.94%\n"
          ]
        }
      ]
    },
    {
      "cell_type": "code",
      "source": [
        "# Prepare the test data\n",
        "X_test = test.drop(['id'], axis=1)\n",
        "\n",
        "# Make predictions\n",
        "test_predictions = model.predict(X_test)\n",
        "\n",
        "# Prepare submission DataFrame\n",
        "submission = pd.DataFrame({'id': test['id'], 'loan_status': test_predictions})\n",
        "\n",
        "# Display the first few rows of the submission DataFrame\n",
        "print(submission.head())\n"
      ],
      "metadata": {
        "colab": {
          "base_uri": "https://localhost:8080/"
        },
        "id": "jB_0-wyZQmAr",
        "outputId": "5cc3e8c3-af3b-4520-c50e-4c1f8dda905b"
      },
      "execution_count": 10,
      "outputs": [
        {
          "output_type": "stream",
          "name": "stdout",
          "text": [
            "      id  loan_status\n",
            "0  58645            1\n",
            "1  58646            0\n",
            "2  58647            1\n",
            "3  58648            0\n",
            "4  58649            0\n"
          ]
        }
      ]
    },
    {
      "cell_type": "code",
      "source": [
        "# Save submission file\n",
        "submission.to_csv('submission.csv', index=False)\n",
        "# Display message after creating the file\n",
        "print(\"Final submission file 'submission.csv' has been created.\")"
      ],
      "metadata": {
        "colab": {
          "base_uri": "https://localhost:8080/"
        },
        "id": "qoPGIeJXQouM",
        "outputId": "6ba1535e-5de2-4a52-a0af-cf4f20b9ecc2"
      },
      "execution_count": 11,
      "outputs": [
        {
          "output_type": "stream",
          "name": "stdout",
          "text": [
            "Final submission file 'submission.csv' has been created.\n"
          ]
        }
      ]
    },
    {
      "cell_type": "code",
      "source": [],
      "metadata": {
        "id": "Z8R-ygaUQp-Q"
      },
      "execution_count": null,
      "outputs": []
    }
  ]
}