# Set random seed for reproducibility
np.random.seed(42)

